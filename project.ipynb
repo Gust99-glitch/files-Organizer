{
 "cells": [
  {
   "cell_type": "raw",
   "id": "980dd963-36e2-429d-a927-38df6fc9b19c",
   "metadata": {},
   "source": [
    "FILES ORGANIZER "
   ]
  },
  {
   "cell_type": "code",
   "execution_count": 5,
   "id": "5dfc3958-a5ff-4af2-9136-3648e340c42d",
   "metadata": {},
   "outputs": [],
   "source": [
    "import os \n",
    "import shutil\n",
    "from pathlib import Path  "
   ]
  },
  {
   "cell_type": "code",
   "execution_count": 7,
   "id": "90d7c09e-88b1-4785-84f2-5988aa45c08f",
   "metadata": {},
   "outputs": [],
   "source": [
    "# Define categories for file types\n",
    "file_types = {\n",
    "    \"Images\": [\".jpg\", \".jpeg\", \".png\", \".gif\", \".bmp\"],\n",
    "    \"Documents\": [\".pdf\", \".docx\", \".txt\", \".xlsx\", \".pptx\"],\n",
    "    \"Music\": [\".mp3\", \".wav\", \".aac\"],\n",
    "    \"Videos\": [\".mp4\", \".avi\", \".mkv\"],\n",
    "    \"Archives\": [\".zip\", \".rar\", \".tar\", \".gz\"],\n",
    "    # Add other categories as needed\n",
    "}"
   ]
  },
  {
   "cell_type": "code",
   "execution_count": 9,
   "id": "0420ca25-cb42-4801-a418-8b2bbd87c826",
   "metadata": {},
   "outputs": [],
   "source": [
    "def organize_files(directory):\n",
    "    # Ensure the directory exists\n",
    "    if not os.path.exists(directory):\n",
    "        print(f\"Directory {directory} does not exist.\")\n",
    "        return\n",
    "\n",
    "    # Loop through each file in the directory\n",
    "    for file_name in os.listdir(directory):\n",
    "        file_path = os.path.join(directory, file_name)\n",
    "        \n",
    "        # Skip directories\n",
    "        if os.path.isdir(file_path):\n",
    "            continue\n",
    "        \n",
    "        # Check the file extension and determine its folder\n",
    "        file_extension = Path(file_name).suffix.lower()\n",
    "        moved = False\n",
    "        \n",
    "        for folder, extensions in file_types.items():\n",
    "            if file_extension in extensions:\n",
    "                # Create the folder if it doesn't exist\n",
    "                folder_path = os.path.join(directory, folder)\n",
    "                os.makedirs(folder_path, exist_ok=True)\n",
    "                \n",
    "                # Move the file\n",
    "                shutil.move(file_path, os.path.join(folder_path, file_name))\n",
    "                moved = True\n",
    "                print(f\"Moved {file_name} to {folder}\")\n",
    "                break\n",
    "        \n",
    "        # Optionally, move files with unrecognized extensions to an \"Others\" folder\n",
    "        if not moved:\n",
    "            other_folder = os.path.join(directory, \"Others\")\n",
    "            os.makedirs(other_folder, exist_ok=True)\n",
    "            shutil.move(file_path, os.path.join(other_folder, file_name))\n",
    "            print(f\"Moved {file_name} to Others\")\n"
   ]
  },
  {
   "cell_type": "code",
   "execution_count": 11,
   "id": "75dfe5af-3853-484b-b279-ba1e322c73e8",
   "metadata": {},
   "outputs": [
    {
     "name": "stdin",
     "output_type": "stream",
     "text": [
      "Enter the path of the directory to organize:  /Users/gustave/Library/Mobile Documents/com~apple~CloudDocs\n"
     ]
    }
   ],
   "source": [
    "# Specify the directory path\n",
    "directory_path = input(\"Enter the path of the directory to organize: \")\n",
    "organize_files(directory_path)"
   ]
  },
  {
   "cell_type": "code",
   "execution_count": null,
   "id": "5ed1e0f6-b2e8-4b3a-a5ca-03ff7760dbaf",
   "metadata": {},
   "outputs": [],
   "source": []
  }
 ],
 "metadata": {
  "kernelspec": {
   "display_name": "Python 3 (ipykernel)",
   "language": "python",
   "name": "python3"
  },
  "language_info": {
   "codemirror_mode": {
    "name": "ipython",
    "version": 3
   },
   "file_extension": ".py",
   "mimetype": "text/x-python",
   "name": "python",
   "nbconvert_exporter": "python",
   "pygments_lexer": "ipython3",
   "version": "3.12.4"
  }
 },
 "nbformat": 4,
 "nbformat_minor": 5
}
